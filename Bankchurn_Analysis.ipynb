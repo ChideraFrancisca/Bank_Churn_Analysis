{
 "cells": [
  {
   "cell_type": "code",
   "execution_count": 235,
   "id": "6941c6ae-b19f-4072-a211-6cd3b38f8fd1",
   "metadata": {},
   "outputs": [],
   "source": [
    "import numpy as np\n",
    "import pandas as pd\n",
    "import seaborn as sns\n",
    "import matplotlib.pyplot as plt\n"
   ]
  },
  {
   "cell_type": "code",
   "execution_count": 236,
   "id": "ea10ee33-3140-4ffe-95e7-f7c4d9c1eb69",
   "metadata": {},
   "outputs": [],
   "source": [
    "df_1 = pd.read_excel(\"_Bank_Churn_Messy_Customer_info.xlsx\")"
   ]
  },
  {
   "cell_type": "code",
   "execution_count": 237,
   "id": "7657ed70-acf7-45c8-97ad-51cf31a80904",
   "metadata": {},
   "outputs": [
    {
     "data": {
      "text/html": [
       "<div>\n",
       "<style scoped>\n",
       "    .dataframe tbody tr th:only-of-type {\n",
       "        vertical-align: middle;\n",
       "    }\n",
       "\n",
       "    .dataframe tbody tr th {\n",
       "        vertical-align: top;\n",
       "    }\n",
       "\n",
       "    .dataframe thead th {\n",
       "        text-align: right;\n",
       "    }\n",
       "</style>\n",
       "<table border=\"1\" class=\"dataframe\">\n",
       "  <thead>\n",
       "    <tr style=\"text-align: right;\">\n",
       "      <th></th>\n",
       "      <th>CustomerId</th>\n",
       "      <th>Surname</th>\n",
       "      <th>CreditScore</th>\n",
       "      <th>Geography</th>\n",
       "      <th>Gender</th>\n",
       "      <th>Age</th>\n",
       "      <th>Tenure</th>\n",
       "      <th>EstimatedSalary</th>\n",
       "    </tr>\n",
       "  </thead>\n",
       "  <tbody>\n",
       "    <tr>\n",
       "      <th>0</th>\n",
       "      <td>15634602</td>\n",
       "      <td>Hargrave</td>\n",
       "      <td>619</td>\n",
       "      <td>FRA</td>\n",
       "      <td>Female</td>\n",
       "      <td>42.0</td>\n",
       "      <td>2</td>\n",
       "      <td>€101348.88</td>\n",
       "    </tr>\n",
       "    <tr>\n",
       "      <th>1</th>\n",
       "      <td>15647311</td>\n",
       "      <td>Hill</td>\n",
       "      <td>608</td>\n",
       "      <td>Spain</td>\n",
       "      <td>Female</td>\n",
       "      <td>41.0</td>\n",
       "      <td>1</td>\n",
       "      <td>€112542.58</td>\n",
       "    </tr>\n",
       "    <tr>\n",
       "      <th>2</th>\n",
       "      <td>15619304</td>\n",
       "      <td>Onio</td>\n",
       "      <td>502</td>\n",
       "      <td>French</td>\n",
       "      <td>Female</td>\n",
       "      <td>42.0</td>\n",
       "      <td>8</td>\n",
       "      <td>€113931.57</td>\n",
       "    </tr>\n",
       "    <tr>\n",
       "      <th>3</th>\n",
       "      <td>15701354</td>\n",
       "      <td>Boni</td>\n",
       "      <td>699</td>\n",
       "      <td>FRA</td>\n",
       "      <td>Female</td>\n",
       "      <td>39.0</td>\n",
       "      <td>1</td>\n",
       "      <td>€93826.63</td>\n",
       "    </tr>\n",
       "    <tr>\n",
       "      <th>4</th>\n",
       "      <td>15737888</td>\n",
       "      <td>Mitchell</td>\n",
       "      <td>850</td>\n",
       "      <td>Spain</td>\n",
       "      <td>Female</td>\n",
       "      <td>43.0</td>\n",
       "      <td>2</td>\n",
       "      <td>€79084.1</td>\n",
       "    </tr>\n",
       "  </tbody>\n",
       "</table>\n",
       "</div>"
      ],
      "text/plain": [
       "   CustomerId   Surname  CreditScore Geography  Gender   Age  Tenure  \\\n",
       "0    15634602  Hargrave          619       FRA  Female  42.0       2   \n",
       "1    15647311      Hill          608     Spain  Female  41.0       1   \n",
       "2    15619304      Onio          502    French  Female  42.0       8   \n",
       "3    15701354      Boni          699       FRA  Female  39.0       1   \n",
       "4    15737888  Mitchell          850     Spain  Female  43.0       2   \n",
       "\n",
       "  EstimatedSalary  \n",
       "0      €101348.88  \n",
       "1      €112542.58  \n",
       "2      €113931.57  \n",
       "3       €93826.63  \n",
       "4        €79084.1  "
      ]
     },
     "execution_count": 237,
     "metadata": {},
     "output_type": "execute_result"
    }
   ],
   "source": [
    "df_1.head()"
   ]
  },
  {
   "cell_type": "code",
   "execution_count": 238,
   "id": "22c0fa47-73fc-4db6-b257-5110518eecb7",
   "metadata": {},
   "outputs": [],
   "source": [
    "df_2 = pd.read_excel(\"Bank_Churn_Messy_Account_Info.xlsx\")"
   ]
  },
  {
   "cell_type": "code",
   "execution_count": 239,
   "id": "5df08e5c-b462-4fc9-a5c0-30845baccc01",
   "metadata": {},
   "outputs": [
    {
     "data": {
      "text/html": [
       "<div>\n",
       "<style scoped>\n",
       "    .dataframe tbody tr th:only-of-type {\n",
       "        vertical-align: middle;\n",
       "    }\n",
       "\n",
       "    .dataframe tbody tr th {\n",
       "        vertical-align: top;\n",
       "    }\n",
       "\n",
       "    .dataframe thead th {\n",
       "        text-align: right;\n",
       "    }\n",
       "</style>\n",
       "<table border=\"1\" class=\"dataframe\">\n",
       "  <thead>\n",
       "    <tr style=\"text-align: right;\">\n",
       "      <th></th>\n",
       "      <th>CustomerId</th>\n",
       "      <th>Balance</th>\n",
       "      <th>NumOfProducts</th>\n",
       "      <th>HasCrCard</th>\n",
       "      <th>Tenure</th>\n",
       "      <th>IsActiveMember</th>\n",
       "      <th>Exited</th>\n",
       "    </tr>\n",
       "  </thead>\n",
       "  <tbody>\n",
       "    <tr>\n",
       "      <th>0</th>\n",
       "      <td>15634602</td>\n",
       "      <td>€0.0</td>\n",
       "      <td>1</td>\n",
       "      <td>Yes</td>\n",
       "      <td>2</td>\n",
       "      <td>Yes</td>\n",
       "      <td>1</td>\n",
       "    </tr>\n",
       "    <tr>\n",
       "      <th>1</th>\n",
       "      <td>15634602</td>\n",
       "      <td>€0.0</td>\n",
       "      <td>1</td>\n",
       "      <td>Yes</td>\n",
       "      <td>2</td>\n",
       "      <td>Yes</td>\n",
       "      <td>1</td>\n",
       "    </tr>\n",
       "    <tr>\n",
       "      <th>2</th>\n",
       "      <td>15647311</td>\n",
       "      <td>€83807.86</td>\n",
       "      <td>1</td>\n",
       "      <td>Yes</td>\n",
       "      <td>1</td>\n",
       "      <td>Yes</td>\n",
       "      <td>0</td>\n",
       "    </tr>\n",
       "    <tr>\n",
       "      <th>3</th>\n",
       "      <td>15619304</td>\n",
       "      <td>€159660.8</td>\n",
       "      <td>3</td>\n",
       "      <td>No</td>\n",
       "      <td>8</td>\n",
       "      <td>No</td>\n",
       "      <td>1</td>\n",
       "    </tr>\n",
       "    <tr>\n",
       "      <th>4</th>\n",
       "      <td>15701354</td>\n",
       "      <td>€0.0</td>\n",
       "      <td>2</td>\n",
       "      <td>No</td>\n",
       "      <td>1</td>\n",
       "      <td>No</td>\n",
       "      <td>0</td>\n",
       "    </tr>\n",
       "  </tbody>\n",
       "</table>\n",
       "</div>"
      ],
      "text/plain": [
       "   CustomerId    Balance  NumOfProducts HasCrCard  Tenure IsActiveMember  \\\n",
       "0    15634602       €0.0              1       Yes       2            Yes   \n",
       "1    15634602       €0.0              1       Yes       2            Yes   \n",
       "2    15647311  €83807.86              1       Yes       1            Yes   \n",
       "3    15619304  €159660.8              3        No       8             No   \n",
       "4    15701354       €0.0              2        No       1             No   \n",
       "\n",
       "   Exited  \n",
       "0       1  \n",
       "1       1  \n",
       "2       0  \n",
       "3       1  \n",
       "4       0  "
      ]
     },
     "execution_count": 239,
     "metadata": {},
     "output_type": "execute_result"
    }
   ],
   "source": [
    "df_2.head()"
   ]
  },
  {
   "cell_type": "code",
   "execution_count": 240,
   "id": "5dfd9548-9d9f-4fa1-b650-05b1d19d1caa",
   "metadata": {},
   "outputs": [
    {
     "name": "stdout",
     "output_type": "stream",
     "text": [
      "<class 'pandas.core.frame.DataFrame'>\n",
      "RangeIndex: 10001 entries, 0 to 10000\n",
      "Data columns (total 8 columns):\n",
      " #   Column           Non-Null Count  Dtype  \n",
      "---  ------           --------------  -----  \n",
      " 0   CustomerId       10001 non-null  int64  \n",
      " 1   Surname          9998 non-null   object \n",
      " 2   CreditScore      10001 non-null  int64  \n",
      " 3   Geography        10001 non-null  object \n",
      " 4   Gender           10001 non-null  object \n",
      " 5   Age              9998 non-null   float64\n",
      " 6   Tenure           10001 non-null  int64  \n",
      " 7   EstimatedSalary  10001 non-null  object \n",
      "dtypes: float64(1), int64(3), object(4)\n",
      "memory usage: 625.2+ KB\n"
     ]
    }
   ],
   "source": [
    "df_1.info()"
   ]
  },
  {
   "cell_type": "code",
   "execution_count": 241,
   "id": "c606b45f-6ae6-42c8-974d-0d1fb633ee6c",
   "metadata": {},
   "outputs": [
    {
     "data": {
      "text/html": [
       "<div>\n",
       "<style scoped>\n",
       "    .dataframe tbody tr th:only-of-type {\n",
       "        vertical-align: middle;\n",
       "    }\n",
       "\n",
       "    .dataframe tbody tr th {\n",
       "        vertical-align: top;\n",
       "    }\n",
       "\n",
       "    .dataframe thead th {\n",
       "        text-align: right;\n",
       "    }\n",
       "</style>\n",
       "<table border=\"1\" class=\"dataframe\">\n",
       "  <thead>\n",
       "    <tr style=\"text-align: right;\">\n",
       "      <th></th>\n",
       "      <th>CustomerId</th>\n",
       "      <th>CreditScore</th>\n",
       "      <th>Age</th>\n",
       "      <th>Tenure</th>\n",
       "    </tr>\n",
       "  </thead>\n",
       "  <tbody>\n",
       "    <tr>\n",
       "      <th>count</th>\n",
       "      <td>1.000100e+04</td>\n",
       "      <td>10001.000000</td>\n",
       "      <td>9998.000000</td>\n",
       "      <td>10001.000000</td>\n",
       "    </tr>\n",
       "    <tr>\n",
       "      <th>mean</th>\n",
       "      <td>1.569093e+07</td>\n",
       "      <td>650.542946</td>\n",
       "      <td>38.920984</td>\n",
       "      <td>5.012699</td>\n",
       "    </tr>\n",
       "    <tr>\n",
       "      <th>std</th>\n",
       "      <td>7.193531e+04</td>\n",
       "      <td>96.658818</td>\n",
       "      <td>10.489116</td>\n",
       "      <td>2.892047</td>\n",
       "    </tr>\n",
       "    <tr>\n",
       "      <th>min</th>\n",
       "      <td>1.556570e+07</td>\n",
       "      <td>350.000000</td>\n",
       "      <td>18.000000</td>\n",
       "      <td>0.000000</td>\n",
       "    </tr>\n",
       "    <tr>\n",
       "      <th>25%</th>\n",
       "      <td>1.562852e+07</td>\n",
       "      <td>584.000000</td>\n",
       "      <td>32.000000</td>\n",
       "      <td>3.000000</td>\n",
       "    </tr>\n",
       "    <tr>\n",
       "      <th>50%</th>\n",
       "      <td>1.569073e+07</td>\n",
       "      <td>652.000000</td>\n",
       "      <td>37.000000</td>\n",
       "      <td>5.000000</td>\n",
       "    </tr>\n",
       "    <tr>\n",
       "      <th>75%</th>\n",
       "      <td>1.575323e+07</td>\n",
       "      <td>718.000000</td>\n",
       "      <td>44.000000</td>\n",
       "      <td>7.000000</td>\n",
       "    </tr>\n",
       "    <tr>\n",
       "      <th>max</th>\n",
       "      <td>1.581569e+07</td>\n",
       "      <td>850.000000</td>\n",
       "      <td>92.000000</td>\n",
       "      <td>10.000000</td>\n",
       "    </tr>\n",
       "  </tbody>\n",
       "</table>\n",
       "</div>"
      ],
      "text/plain": [
       "         CustomerId   CreditScore          Age        Tenure\n",
       "count  1.000100e+04  10001.000000  9998.000000  10001.000000\n",
       "mean   1.569093e+07    650.542946    38.920984      5.012699\n",
       "std    7.193531e+04     96.658818    10.489116      2.892047\n",
       "min    1.556570e+07    350.000000    18.000000      0.000000\n",
       "25%    1.562852e+07    584.000000    32.000000      3.000000\n",
       "50%    1.569073e+07    652.000000    37.000000      5.000000\n",
       "75%    1.575323e+07    718.000000    44.000000      7.000000\n",
       "max    1.581569e+07    850.000000    92.000000     10.000000"
      ]
     },
     "execution_count": 241,
     "metadata": {},
     "output_type": "execute_result"
    }
   ],
   "source": [
    "df_1.describe()"
   ]
  },
  {
   "cell_type": "code",
   "execution_count": 242,
   "id": "e3f670bf-b0ec-4fff-a228-fae8e0469af6",
   "metadata": {},
   "outputs": [
    {
     "data": {
      "text/plain": [
       "CustomerId         0\n",
       "Surname            3\n",
       "CreditScore        0\n",
       "Geography          0\n",
       "Gender             0\n",
       "Age                3\n",
       "Tenure             0\n",
       "EstimatedSalary    0\n",
       "dtype: int64"
      ]
     },
     "execution_count": 242,
     "metadata": {},
     "output_type": "execute_result"
    }
   ],
   "source": [
    "df_1.isnull().sum()"
   ]
  },
  {
   "cell_type": "code",
   "execution_count": 243,
   "id": "f5e5a08c-ac7e-4018-a217-c80dd4d327f1",
   "metadata": {},
   "outputs": [
    {
     "name": "stdout",
     "output_type": "stream",
     "text": [
      "<class 'pandas.core.frame.DataFrame'>\n",
      "RangeIndex: 10002 entries, 0 to 10001\n",
      "Data columns (total 7 columns):\n",
      " #   Column          Non-Null Count  Dtype \n",
      "---  ------          --------------  ----- \n",
      " 0   CustomerId      10002 non-null  int64 \n",
      " 1   Balance         10002 non-null  object\n",
      " 2   NumOfProducts   10002 non-null  int64 \n",
      " 3   HasCrCard       10002 non-null  object\n",
      " 4   Tenure          10002 non-null  int64 \n",
      " 5   IsActiveMember  10002 non-null  object\n",
      " 6   Exited          10002 non-null  int64 \n",
      "dtypes: int64(4), object(3)\n",
      "memory usage: 547.1+ KB\n"
     ]
    }
   ],
   "source": [
    "df_2.info()"
   ]
  },
  {
   "cell_type": "code",
   "execution_count": 244,
   "id": "5a3c99f3-daab-487f-b89d-aaa0966aee16",
   "metadata": {},
   "outputs": [
    {
     "data": {
      "text/html": [
       "<div>\n",
       "<style scoped>\n",
       "    .dataframe tbody tr th:only-of-type {\n",
       "        vertical-align: middle;\n",
       "    }\n",
       "\n",
       "    .dataframe tbody tr th {\n",
       "        vertical-align: top;\n",
       "    }\n",
       "\n",
       "    .dataframe thead th {\n",
       "        text-align: right;\n",
       "    }\n",
       "</style>\n",
       "<table border=\"1\" class=\"dataframe\">\n",
       "  <thead>\n",
       "    <tr style=\"text-align: right;\">\n",
       "      <th></th>\n",
       "      <th>CustomerId</th>\n",
       "      <th>NumOfProducts</th>\n",
       "      <th>Tenure</th>\n",
       "      <th>Exited</th>\n",
       "    </tr>\n",
       "  </thead>\n",
       "  <tbody>\n",
       "    <tr>\n",
       "      <th>count</th>\n",
       "      <td>1.000200e+04</td>\n",
       "      <td>10002.000000</td>\n",
       "      <td>10002.000000</td>\n",
       "      <td>10002.000000</td>\n",
       "    </tr>\n",
       "    <tr>\n",
       "      <th>mean</th>\n",
       "      <td>1.569093e+07</td>\n",
       "      <td>1.530094</td>\n",
       "      <td>5.012398</td>\n",
       "      <td>0.203759</td>\n",
       "    </tr>\n",
       "    <tr>\n",
       "      <th>std</th>\n",
       "      <td>7.193392e+04</td>\n",
       "      <td>0.581645</td>\n",
       "      <td>2.892060</td>\n",
       "      <td>0.402812</td>\n",
       "    </tr>\n",
       "    <tr>\n",
       "      <th>min</th>\n",
       "      <td>1.556570e+07</td>\n",
       "      <td>1.000000</td>\n",
       "      <td>0.000000</td>\n",
       "      <td>0.000000</td>\n",
       "    </tr>\n",
       "    <tr>\n",
       "      <th>25%</th>\n",
       "      <td>1.562852e+07</td>\n",
       "      <td>1.000000</td>\n",
       "      <td>3.000000</td>\n",
       "      <td>0.000000</td>\n",
       "    </tr>\n",
       "    <tr>\n",
       "      <th>50%</th>\n",
       "      <td>1.569073e+07</td>\n",
       "      <td>1.000000</td>\n",
       "      <td>5.000000</td>\n",
       "      <td>0.000000</td>\n",
       "    </tr>\n",
       "    <tr>\n",
       "      <th>75%</th>\n",
       "      <td>1.575323e+07</td>\n",
       "      <td>2.000000</td>\n",
       "      <td>7.000000</td>\n",
       "      <td>0.000000</td>\n",
       "    </tr>\n",
       "    <tr>\n",
       "      <th>max</th>\n",
       "      <td>1.581569e+07</td>\n",
       "      <td>4.000000</td>\n",
       "      <td>10.000000</td>\n",
       "      <td>1.000000</td>\n",
       "    </tr>\n",
       "  </tbody>\n",
       "</table>\n",
       "</div>"
      ],
      "text/plain": [
       "         CustomerId  NumOfProducts        Tenure        Exited\n",
       "count  1.000200e+04   10002.000000  10002.000000  10002.000000\n",
       "mean   1.569093e+07       1.530094      5.012398      0.203759\n",
       "std    7.193392e+04       0.581645      2.892060      0.402812\n",
       "min    1.556570e+07       1.000000      0.000000      0.000000\n",
       "25%    1.562852e+07       1.000000      3.000000      0.000000\n",
       "50%    1.569073e+07       1.000000      5.000000      0.000000\n",
       "75%    1.575323e+07       2.000000      7.000000      0.000000\n",
       "max    1.581569e+07       4.000000     10.000000      1.000000"
      ]
     },
     "execution_count": 244,
     "metadata": {},
     "output_type": "execute_result"
    }
   ],
   "source": [
    "df_2.describe()"
   ]
  },
  {
   "cell_type": "code",
   "execution_count": 245,
   "id": "24dac2e9-6f7c-46f2-8dd1-bbef514126a8",
   "metadata": {},
   "outputs": [
    {
     "data": {
      "text/plain": [
       "CustomerId        0\n",
       "Balance           0\n",
       "NumOfProducts     0\n",
       "HasCrCard         0\n",
       "Tenure            0\n",
       "IsActiveMember    0\n",
       "Exited            0\n",
       "dtype: int64"
      ]
     },
     "execution_count": 245,
     "metadata": {},
     "output_type": "execute_result"
    }
   ],
   "source": [
    "df_2.isnull().sum()"
   ]
  },
  {
   "cell_type": "code",
   "execution_count": 246,
   "id": "e943b5a3-763e-4ccf-a8b0-14fe4a5f1434",
   "metadata": {},
   "outputs": [],
   "source": [
    "merged_df = pd.merge(df_1, df_2, on='CustomerId', how='inner')"
   ]
  },
  {
   "cell_type": "code",
   "execution_count": 247,
   "id": "a6da491f-81f3-4881-8ae9-ae73977fc2cb",
   "metadata": {},
   "outputs": [
    {
     "data": {
      "text/html": [
       "<div>\n",
       "<style scoped>\n",
       "    .dataframe tbody tr th:only-of-type {\n",
       "        vertical-align: middle;\n",
       "    }\n",
       "\n",
       "    .dataframe tbody tr th {\n",
       "        vertical-align: top;\n",
       "    }\n",
       "\n",
       "    .dataframe thead th {\n",
       "        text-align: right;\n",
       "    }\n",
       "</style>\n",
       "<table border=\"1\" class=\"dataframe\">\n",
       "  <thead>\n",
       "    <tr style=\"text-align: right;\">\n",
       "      <th></th>\n",
       "      <th>CustomerId</th>\n",
       "      <th>Surname</th>\n",
       "      <th>CreditScore</th>\n",
       "      <th>Geography</th>\n",
       "      <th>Gender</th>\n",
       "      <th>Age</th>\n",
       "      <th>Tenure_x</th>\n",
       "      <th>EstimatedSalary</th>\n",
       "      <th>Balance</th>\n",
       "      <th>NumOfProducts</th>\n",
       "      <th>HasCrCard</th>\n",
       "      <th>Tenure_y</th>\n",
       "      <th>IsActiveMember</th>\n",
       "      <th>Exited</th>\n",
       "    </tr>\n",
       "  </thead>\n",
       "  <tbody>\n",
       "    <tr>\n",
       "      <th>0</th>\n",
       "      <td>15634602</td>\n",
       "      <td>Hargrave</td>\n",
       "      <td>619</td>\n",
       "      <td>FRA</td>\n",
       "      <td>Female</td>\n",
       "      <td>42.0</td>\n",
       "      <td>2</td>\n",
       "      <td>€101348.88</td>\n",
       "      <td>€0.0</td>\n",
       "      <td>1</td>\n",
       "      <td>Yes</td>\n",
       "      <td>2</td>\n",
       "      <td>Yes</td>\n",
       "      <td>1</td>\n",
       "    </tr>\n",
       "    <tr>\n",
       "      <th>1</th>\n",
       "      <td>15634602</td>\n",
       "      <td>Hargrave</td>\n",
       "      <td>619</td>\n",
       "      <td>FRA</td>\n",
       "      <td>Female</td>\n",
       "      <td>42.0</td>\n",
       "      <td>2</td>\n",
       "      <td>€101348.88</td>\n",
       "      <td>€0.0</td>\n",
       "      <td>1</td>\n",
       "      <td>Yes</td>\n",
       "      <td>2</td>\n",
       "      <td>Yes</td>\n",
       "      <td>1</td>\n",
       "    </tr>\n",
       "    <tr>\n",
       "      <th>2</th>\n",
       "      <td>15647311</td>\n",
       "      <td>Hill</td>\n",
       "      <td>608</td>\n",
       "      <td>Spain</td>\n",
       "      <td>Female</td>\n",
       "      <td>41.0</td>\n",
       "      <td>1</td>\n",
       "      <td>€112542.58</td>\n",
       "      <td>€83807.86</td>\n",
       "      <td>1</td>\n",
       "      <td>Yes</td>\n",
       "      <td>1</td>\n",
       "      <td>Yes</td>\n",
       "      <td>0</td>\n",
       "    </tr>\n",
       "    <tr>\n",
       "      <th>3</th>\n",
       "      <td>15619304</td>\n",
       "      <td>Onio</td>\n",
       "      <td>502</td>\n",
       "      <td>French</td>\n",
       "      <td>Female</td>\n",
       "      <td>42.0</td>\n",
       "      <td>8</td>\n",
       "      <td>€113931.57</td>\n",
       "      <td>€159660.8</td>\n",
       "      <td>3</td>\n",
       "      <td>No</td>\n",
       "      <td>8</td>\n",
       "      <td>No</td>\n",
       "      <td>1</td>\n",
       "    </tr>\n",
       "    <tr>\n",
       "      <th>4</th>\n",
       "      <td>15701354</td>\n",
       "      <td>Boni</td>\n",
       "      <td>699</td>\n",
       "      <td>FRA</td>\n",
       "      <td>Female</td>\n",
       "      <td>39.0</td>\n",
       "      <td>1</td>\n",
       "      <td>€93826.63</td>\n",
       "      <td>€0.0</td>\n",
       "      <td>2</td>\n",
       "      <td>No</td>\n",
       "      <td>1</td>\n",
       "      <td>No</td>\n",
       "      <td>0</td>\n",
       "    </tr>\n",
       "  </tbody>\n",
       "</table>\n",
       "</div>"
      ],
      "text/plain": [
       "   CustomerId   Surname  CreditScore Geography  Gender   Age  Tenure_x  \\\n",
       "0    15634602  Hargrave          619       FRA  Female  42.0         2   \n",
       "1    15634602  Hargrave          619       FRA  Female  42.0         2   \n",
       "2    15647311      Hill          608     Spain  Female  41.0         1   \n",
       "3    15619304      Onio          502    French  Female  42.0         8   \n",
       "4    15701354      Boni          699       FRA  Female  39.0         1   \n",
       "\n",
       "  EstimatedSalary    Balance  NumOfProducts HasCrCard  Tenure_y  \\\n",
       "0      €101348.88       €0.0              1       Yes         2   \n",
       "1      €101348.88       €0.0              1       Yes         2   \n",
       "2      €112542.58  €83807.86              1       Yes         1   \n",
       "3      €113931.57  €159660.8              3        No         8   \n",
       "4       €93826.63       €0.0              2        No         1   \n",
       "\n",
       "  IsActiveMember  Exited  \n",
       "0            Yes       1  \n",
       "1            Yes       1  \n",
       "2            Yes       0  \n",
       "3             No       1  \n",
       "4             No       0  "
      ]
     },
     "execution_count": 247,
     "metadata": {},
     "output_type": "execute_result"
    }
   ],
   "source": [
    "merged_df.head()"
   ]
  },
  {
   "cell_type": "code",
   "execution_count": 248,
   "id": "c3a9f5cc-5e77-4cda-8aad-8295f46944d4",
   "metadata": {},
   "outputs": [
    {
     "data": {
      "text/html": [
       "<div>\n",
       "<style scoped>\n",
       "    .dataframe tbody tr th:only-of-type {\n",
       "        vertical-align: middle;\n",
       "    }\n",
       "\n",
       "    .dataframe tbody tr th {\n",
       "        vertical-align: top;\n",
       "    }\n",
       "\n",
       "    .dataframe thead th {\n",
       "        text-align: right;\n",
       "    }\n",
       "</style>\n",
       "<table border=\"1\" class=\"dataframe\">\n",
       "  <thead>\n",
       "    <tr style=\"text-align: right;\">\n",
       "      <th></th>\n",
       "      <th>CustomerId</th>\n",
       "      <th>Surname</th>\n",
       "      <th>CreditScore</th>\n",
       "      <th>Geography</th>\n",
       "      <th>Gender</th>\n",
       "      <th>Age</th>\n",
       "      <th>Tenure_x</th>\n",
       "      <th>EstimatedSalary</th>\n",
       "      <th>Balance</th>\n",
       "      <th>NumOfProducts</th>\n",
       "      <th>HasCrCard</th>\n",
       "      <th>Tenure_y</th>\n",
       "      <th>IsActiveMember</th>\n",
       "      <th>Exited</th>\n",
       "    </tr>\n",
       "  </thead>\n",
       "  <tbody>\n",
       "    <tr>\n",
       "      <th>9999</th>\n",
       "      <td>15682355</td>\n",
       "      <td>Sabbatini</td>\n",
       "      <td>772</td>\n",
       "      <td>Germany</td>\n",
       "      <td>Male</td>\n",
       "      <td>42.0</td>\n",
       "      <td>3</td>\n",
       "      <td>€92888.52</td>\n",
       "      <td>€75075.31</td>\n",
       "      <td>2</td>\n",
       "      <td>No</td>\n",
       "      <td>3</td>\n",
       "      <td>No</td>\n",
       "      <td>1</td>\n",
       "    </tr>\n",
       "    <tr>\n",
       "      <th>10000</th>\n",
       "      <td>15628319</td>\n",
       "      <td>Walker</td>\n",
       "      <td>792</td>\n",
       "      <td>French</td>\n",
       "      <td>Female</td>\n",
       "      <td>28.0</td>\n",
       "      <td>4</td>\n",
       "      <td>€38190.78</td>\n",
       "      <td>€130142.79</td>\n",
       "      <td>1</td>\n",
       "      <td>No</td>\n",
       "      <td>4</td>\n",
       "      <td>No</td>\n",
       "      <td>0</td>\n",
       "    </tr>\n",
       "    <tr>\n",
       "      <th>10001</th>\n",
       "      <td>15628319</td>\n",
       "      <td>Walker</td>\n",
       "      <td>792</td>\n",
       "      <td>French</td>\n",
       "      <td>Female</td>\n",
       "      <td>28.0</td>\n",
       "      <td>4</td>\n",
       "      <td>€38190.78</td>\n",
       "      <td>€130142.79</td>\n",
       "      <td>1</td>\n",
       "      <td>No</td>\n",
       "      <td>4</td>\n",
       "      <td>No</td>\n",
       "      <td>0</td>\n",
       "    </tr>\n",
       "    <tr>\n",
       "      <th>10002</th>\n",
       "      <td>15628319</td>\n",
       "      <td>Walker</td>\n",
       "      <td>792</td>\n",
       "      <td>French</td>\n",
       "      <td>Female</td>\n",
       "      <td>28.0</td>\n",
       "      <td>4</td>\n",
       "      <td>€38190.78</td>\n",
       "      <td>€130142.79</td>\n",
       "      <td>1</td>\n",
       "      <td>No</td>\n",
       "      <td>4</td>\n",
       "      <td>No</td>\n",
       "      <td>0</td>\n",
       "    </tr>\n",
       "    <tr>\n",
       "      <th>10003</th>\n",
       "      <td>15628319</td>\n",
       "      <td>Walker</td>\n",
       "      <td>792</td>\n",
       "      <td>French</td>\n",
       "      <td>Female</td>\n",
       "      <td>28.0</td>\n",
       "      <td>4</td>\n",
       "      <td>€38190.78</td>\n",
       "      <td>€130142.79</td>\n",
       "      <td>1</td>\n",
       "      <td>No</td>\n",
       "      <td>4</td>\n",
       "      <td>No</td>\n",
       "      <td>0</td>\n",
       "    </tr>\n",
       "  </tbody>\n",
       "</table>\n",
       "</div>"
      ],
      "text/plain": [
       "       CustomerId    Surname  CreditScore Geography  Gender   Age  Tenure_x  \\\n",
       "9999     15682355  Sabbatini          772   Germany    Male  42.0         3   \n",
       "10000    15628319     Walker          792    French  Female  28.0         4   \n",
       "10001    15628319     Walker          792    French  Female  28.0         4   \n",
       "10002    15628319     Walker          792    French  Female  28.0         4   \n",
       "10003    15628319     Walker          792    French  Female  28.0         4   \n",
       "\n",
       "      EstimatedSalary     Balance  NumOfProducts HasCrCard  Tenure_y  \\\n",
       "9999        €92888.52   €75075.31              2        No         3   \n",
       "10000       €38190.78  €130142.79              1        No         4   \n",
       "10001       €38190.78  €130142.79              1        No         4   \n",
       "10002       €38190.78  €130142.79              1        No         4   \n",
       "10003       €38190.78  €130142.79              1        No         4   \n",
       "\n",
       "      IsActiveMember  Exited  \n",
       "9999              No       1  \n",
       "10000             No       0  \n",
       "10001             No       0  \n",
       "10002             No       0  \n",
       "10003             No       0  "
      ]
     },
     "execution_count": 248,
     "metadata": {},
     "output_type": "execute_result"
    }
   ],
   "source": [
    "merged_df.tail()"
   ]
  },
  {
   "cell_type": "code",
   "execution_count": 249,
   "id": "dbf2c544-1903-417c-8f24-9e4fba5d4bba",
   "metadata": {},
   "outputs": [
    {
     "name": "stdout",
     "output_type": "stream",
     "text": [
      "<class 'pandas.core.frame.DataFrame'>\n",
      "RangeIndex: 10004 entries, 0 to 10003\n",
      "Data columns (total 14 columns):\n",
      " #   Column           Non-Null Count  Dtype  \n",
      "---  ------           --------------  -----  \n",
      " 0   CustomerId       10004 non-null  int64  \n",
      " 1   Surname          10001 non-null  object \n",
      " 2   CreditScore      10004 non-null  int64  \n",
      " 3   Geography        10004 non-null  object \n",
      " 4   Gender           10004 non-null  object \n",
      " 5   Age              10001 non-null  float64\n",
      " 6   Tenure_x         10004 non-null  int64  \n",
      " 7   EstimatedSalary  10004 non-null  object \n",
      " 8   Balance          10004 non-null  object \n",
      " 9   NumOfProducts    10004 non-null  int64  \n",
      " 10  HasCrCard        10004 non-null  object \n",
      " 11  Tenure_y         10004 non-null  int64  \n",
      " 12  IsActiveMember   10004 non-null  object \n",
      " 13  Exited           10004 non-null  int64  \n",
      "dtypes: float64(1), int64(6), object(7)\n",
      "memory usage: 1.1+ MB\n"
     ]
    }
   ],
   "source": [
    "merged_df.info()"
   ]
  },
  {
   "cell_type": "code",
   "execution_count": 250,
   "id": "d08f9e40-89e7-4374-9d47-1f9e38c7a38a",
   "metadata": {},
   "outputs": [
    {
     "data": {
      "text/html": [
       "<div>\n",
       "<style scoped>\n",
       "    .dataframe tbody tr th:only-of-type {\n",
       "        vertical-align: middle;\n",
       "    }\n",
       "\n",
       "    .dataframe tbody tr th {\n",
       "        vertical-align: top;\n",
       "    }\n",
       "\n",
       "    .dataframe thead th {\n",
       "        text-align: right;\n",
       "    }\n",
       "</style>\n",
       "<table border=\"1\" class=\"dataframe\">\n",
       "  <thead>\n",
       "    <tr style=\"text-align: right;\">\n",
       "      <th></th>\n",
       "      <th>CustomerId</th>\n",
       "      <th>CreditScore</th>\n",
       "      <th>Age</th>\n",
       "      <th>Tenure_x</th>\n",
       "      <th>NumOfProducts</th>\n",
       "      <th>Tenure_y</th>\n",
       "      <th>Exited</th>\n",
       "    </tr>\n",
       "  </thead>\n",
       "  <tbody>\n",
       "    <tr>\n",
       "      <th>count</th>\n",
       "      <td>1.000400e+04</td>\n",
       "      <td>10004.000000</td>\n",
       "      <td>10001.000000</td>\n",
       "      <td>10004.000000</td>\n",
       "      <td>10004.000000</td>\n",
       "      <td>10004.000000</td>\n",
       "      <td>10004.000000</td>\n",
       "    </tr>\n",
       "    <tr>\n",
       "      <th>mean</th>\n",
       "      <td>1.569092e+07</td>\n",
       "      <td>650.568073</td>\n",
       "      <td>38.919108</td>\n",
       "      <td>5.012195</td>\n",
       "      <td>1.529988</td>\n",
       "      <td>5.012195</td>\n",
       "      <td>0.203719</td>\n",
       "    </tr>\n",
       "    <tr>\n",
       "      <th>std</th>\n",
       "      <td>7.193218e+04</td>\n",
       "      <td>96.665531</td>\n",
       "      <td>10.488725</td>\n",
       "      <td>2.891806</td>\n",
       "      <td>0.581635</td>\n",
       "      <td>2.891806</td>\n",
       "      <td>0.402782</td>\n",
       "    </tr>\n",
       "    <tr>\n",
       "      <th>min</th>\n",
       "      <td>1.556570e+07</td>\n",
       "      <td>350.000000</td>\n",
       "      <td>18.000000</td>\n",
       "      <td>0.000000</td>\n",
       "      <td>1.000000</td>\n",
       "      <td>0.000000</td>\n",
       "      <td>0.000000</td>\n",
       "    </tr>\n",
       "    <tr>\n",
       "      <th>25%</th>\n",
       "      <td>1.562839e+07</td>\n",
       "      <td>584.000000</td>\n",
       "      <td>32.000000</td>\n",
       "      <td>3.000000</td>\n",
       "      <td>1.000000</td>\n",
       "      <td>3.000000</td>\n",
       "      <td>0.000000</td>\n",
       "    </tr>\n",
       "    <tr>\n",
       "      <th>50%</th>\n",
       "      <td>1.569071e+07</td>\n",
       "      <td>652.000000</td>\n",
       "      <td>37.000000</td>\n",
       "      <td>5.000000</td>\n",
       "      <td>1.000000</td>\n",
       "      <td>5.000000</td>\n",
       "      <td>0.000000</td>\n",
       "    </tr>\n",
       "    <tr>\n",
       "      <th>75%</th>\n",
       "      <td>1.575322e+07</td>\n",
       "      <td>718.000000</td>\n",
       "      <td>44.000000</td>\n",
       "      <td>7.000000</td>\n",
       "      <td>2.000000</td>\n",
       "      <td>7.000000</td>\n",
       "      <td>0.000000</td>\n",
       "    </tr>\n",
       "    <tr>\n",
       "      <th>max</th>\n",
       "      <td>1.581569e+07</td>\n",
       "      <td>850.000000</td>\n",
       "      <td>92.000000</td>\n",
       "      <td>10.000000</td>\n",
       "      <td>4.000000</td>\n",
       "      <td>10.000000</td>\n",
       "      <td>1.000000</td>\n",
       "    </tr>\n",
       "  </tbody>\n",
       "</table>\n",
       "</div>"
      ],
      "text/plain": [
       "         CustomerId   CreditScore           Age      Tenure_x  NumOfProducts  \\\n",
       "count  1.000400e+04  10004.000000  10001.000000  10004.000000   10004.000000   \n",
       "mean   1.569092e+07    650.568073     38.919108      5.012195       1.529988   \n",
       "std    7.193218e+04     96.665531     10.488725      2.891806       0.581635   \n",
       "min    1.556570e+07    350.000000     18.000000      0.000000       1.000000   \n",
       "25%    1.562839e+07    584.000000     32.000000      3.000000       1.000000   \n",
       "50%    1.569071e+07    652.000000     37.000000      5.000000       1.000000   \n",
       "75%    1.575322e+07    718.000000     44.000000      7.000000       2.000000   \n",
       "max    1.581569e+07    850.000000     92.000000     10.000000       4.000000   \n",
       "\n",
       "           Tenure_y        Exited  \n",
       "count  10004.000000  10004.000000  \n",
       "mean       5.012195      0.203719  \n",
       "std        2.891806      0.402782  \n",
       "min        0.000000      0.000000  \n",
       "25%        3.000000      0.000000  \n",
       "50%        5.000000      0.000000  \n",
       "75%        7.000000      0.000000  \n",
       "max       10.000000      1.000000  "
      ]
     },
     "execution_count": 250,
     "metadata": {},
     "output_type": "execute_result"
    }
   ],
   "source": [
    "merged_df.describe()"
   ]
  },
  {
   "cell_type": "code",
   "execution_count": 251,
   "id": "6b919472-c820-4f78-bd5a-98193ac7ab03",
   "metadata": {},
   "outputs": [
    {
     "data": {
      "text/plain": [
       "CustomerId         0\n",
       "Surname            3\n",
       "CreditScore        0\n",
       "Geography          0\n",
       "Gender             0\n",
       "Age                3\n",
       "Tenure_x           0\n",
       "EstimatedSalary    0\n",
       "Balance            0\n",
       "NumOfProducts      0\n",
       "HasCrCard          0\n",
       "Tenure_y           0\n",
       "IsActiveMember     0\n",
       "Exited             0\n",
       "dtype: int64"
      ]
     },
     "execution_count": 251,
     "metadata": {},
     "output_type": "execute_result"
    }
   ],
   "source": [
    "merged_df.isnull().sum()"
   ]
  },
  {
   "cell_type": "code",
   "execution_count": 252,
   "id": "9822b374-5c01-4a21-9ac9-56a64d8a9db4",
   "metadata": {},
   "outputs": [],
   "source": [
    "merged_df['Age'] = merged_df['Age'].fillna(merged_df['Age'].mean())"
   ]
  },
  {
   "cell_type": "code",
   "execution_count": 253,
   "id": "56d7b1ad-d780-47ff-bf72-bff41a88dc3c",
   "metadata": {},
   "outputs": [],
   "source": [
    "merged_df['Surname'] = merged_df['Surname'].fillna('Unknown')\n"
   ]
  },
  {
   "cell_type": "code",
   "execution_count": 254,
   "id": "64e33bfe-e9dd-4065-b7d8-b288e18eb918",
   "metadata": {},
   "outputs": [
    {
     "data": {
      "text/plain": [
       "CustomerId         0\n",
       "Surname            0\n",
       "CreditScore        0\n",
       "Geography          0\n",
       "Gender             0\n",
       "Age                0\n",
       "Tenure_x           0\n",
       "EstimatedSalary    0\n",
       "Balance            0\n",
       "NumOfProducts      0\n",
       "HasCrCard          0\n",
       "Tenure_y           0\n",
       "IsActiveMember     0\n",
       "Exited             0\n",
       "dtype: int64"
      ]
     },
     "execution_count": 254,
     "metadata": {},
     "output_type": "execute_result"
    }
   ],
   "source": [
    "merged_df.isnull().sum()"
   ]
  },
  {
   "cell_type": "raw",
   "id": "6fc6068e-81cd-4fa0-9d41-5b9e8062251e",
   "metadata": {},
   "source": [
    "DEMOGRAPHIC ANALYSIS"
   ]
  },
  {
   "cell_type": "code",
   "execution_count": 255,
   "id": "c94216c5-ba71-400e-aaf7-737bff3a399a",
   "metadata": {},
   "outputs": [
    {
     "data": {
      "text/plain": [
       "Gender\n",
       "Male      5457\n",
       "Female    4547\n",
       "Name: count, dtype: int64"
      ]
     },
     "execution_count": 255,
     "metadata": {},
     "output_type": "execute_result"
    }
   ],
   "source": [
    "merged_df['Gender'].value_counts()"
   ]
  },
  {
   "cell_type": "code",
   "execution_count": 256,
   "id": "84bda016-b621-44b2-821b-18024165e9c8",
   "metadata": {},
   "outputs": [
    {
     "data": {
      "text/plain": [
       "Geography\n",
       "Germany    2509\n",
       "Spain      2477\n",
       "France     1741\n",
       "French     1658\n",
       "FRA        1619\n",
       "Name: count, dtype: int64"
      ]
     },
     "execution_count": 256,
     "metadata": {},
     "output_type": "execute_result"
    }
   ],
   "source": [
    "merged_df['Geography'].value_counts()"
   ]
  },
  {
   "cell_type": "code",
   "execution_count": 257,
   "id": "938d7c43-4e24-4395-a718-1d7491db2539",
   "metadata": {},
   "outputs": [],
   "source": [
    "merged_df['Geography'] = merged_df['Geography'].replace({\n",
    "    'French': 'France',\n",
    "    'FRA': 'France',\n",
    "})\n"
   ]
  },
  {
   "cell_type": "code",
   "execution_count": 258,
   "id": "cba5c3e6-f172-47c4-835d-e15e2bfd11ff",
   "metadata": {},
   "outputs": [
    {
     "data": {
      "text/plain": [
       "Geography\n",
       "France     5018\n",
       "Germany    2509\n",
       "Spain      2477\n",
       "Name: count, dtype: int64"
      ]
     },
     "execution_count": 258,
     "metadata": {},
     "output_type": "execute_result"
    }
   ],
   "source": [
    "merged_df['Geography'].value_counts()"
   ]
  },
  {
   "cell_type": "code",
   "execution_count": 259,
   "id": "70bb5f2f-9bb4-4d96-a802-0c88d6e39ecc",
   "metadata": {},
   "outputs": [
    {
     "data": {
      "text/plain": [
       "<Axes: title={'center': 'Customer Distribution by Geography'}, xlabel='Geography'>"
      ]
     },
     "execution_count": 259,
     "metadata": {},
     "output_type": "execute_result"
    },
    {
     "data": {
      "image/png": "[encoded data removed]",
      "text/plain": [
       "<Figure size 640x480 with 1 Axes>"
      ]
     },
     "metadata": {},
     "output_type": "display_data"
    }
   ],
   "source": [
    "merged_df['Geography'].value_counts(normalize=True).plot(kind='bar', title='Customer Distribution by Geography')"
   ]
  },
  {
   "cell_type": "code",
   "execution_count": 260,
   "id": "ac971dc6-a9a2-41c8-89ee-34b03cad155c",
   "metadata": {},
   "outputs": [
    {
     "data": {
      "text/plain": [
       "Geography\n",
       "France     649.747310\n",
       "Germany    651.453567\n",
       "Spain      651.333872\n",
       "Name: CreditScore, dtype: float64"
      ]
     },
     "execution_count": 260,
     "metadata": {},
     "output_type": "execute_result"
    }
   ],
   "source": [
    "# Comparing averages\n",
    "merged_df.groupby('Geography')['CreditScore'].mean()\n"
   ]
  },
  {
   "cell_type": "code",
   "execution_count": 261,
   "id": "f2efc83a-0e37-42b5-b48d-ea7c2459ce2a",
   "metadata": {},
   "outputs": [
    {
     "data": {
      "text/plain": [
       "<Axes: ylabel='proportion'>"
      ]
     },
     "execution_count": 261,
     "metadata": {},
     "output_type": "execute_result"
    },
    {
     "data": {
      "image/png": "[encoded data removed]",
      "text/plain": [
       "<Figure size 640x480 with 1 Axes>"
      ]
     },
     "metadata": {},
     "output_type": "display_data"
    }
   ],
   "source": [
    "merged_df['Gender'].value_counts(normalize=True).plot(kind='pie', autopct='%1.1f%%')"
   ]
  },
  {
   "cell_type": "code",
   "execution_count": 262,
   "id": "63d0865b-433a-40cf-a090-15b480309fd9",
   "metadata": {},
   "outputs": [
    {
     "data": {
      "image/png": "[encoded data removed]",
      "text/plain": [
       "<Figure size 800x600 with 1 Axes>"
      ]
     },
     "metadata": {},
     "output_type": "display_data"
    }
   ],
   "source": [
    "plt.figure(figsize=(8, 6))\n",
    "sns.countplot(data=merged_df, x='Geography', hue='Gender')\n",
    "plt.title('Customer Distribution by Gender and Geography')\n",
    "plt.xlabel('Geography')\n",
    "plt.ylabel('Number of Customers')\n",
    "plt.legend(title='Gender')\n",
    "plt.tight_layout()\n",
    "plt.show()"
   ]
  },
  {
   "cell_type": "code",
   "execution_count": 263,
   "id": "70b7a5ae-94dc-4da5-85f1-656843b20373",
   "metadata": {},
   "outputs": [
    {
     "data": {
      "text/plain": [
       "Gender\n",
       "Female    650.917528\n",
       "Male      650.276892\n",
       "Name: CreditScore, dtype: float64"
      ]
     },
     "execution_count": 263,
     "metadata": {},
     "output_type": "execute_result"
    }
   ],
   "source": [
    "merged_df.groupby('Gender')['CreditScore'].mean()"
   ]
  },
  {
   "cell_type": "code",
   "execution_count": 291,
   "id": "fe98fc7b-1d29-43f9-9ebd-2f3d1ba873db",
   "metadata": {},
   "outputs": [],
   "source": [
    "merged_df['Balance'] = (\n",
    "    merged_df['Balance']\n",
    "    .astype(str)\n",
    "    .str.strip()\n",
    "    .str.replace('€', '', regex=False)\n",
    "    .astype(float)\n",
    ")\n"
   ]
  },
  {
   "cell_type": "code",
   "execution_count": 265,
   "id": "d9a716b1-7eba-45c9-90fd-ae7ca1f2ed27",
   "metadata": {},
   "outputs": [
    {
     "data": {
      "text/plain": [
       "Gender\n",
       "Female    75678.676571\n",
       "Male      77173.974506\n",
       "Name: Balance, dtype: float64"
      ]
     },
     "execution_count": 265,
     "metadata": {},
     "output_type": "execute_result"
    }
   ],
   "source": [
    "merged_df.groupby('Gender')['Balance'].mean()"
   ]
  },
  {
   "cell_type": "code",
   "execution_count": 287,
   "id": "90900d69-bcba-4b51-a2e0-10f81857554b",
   "metadata": {},
   "outputs": [
    {
     "data": {
      "text/plain": [
       "Geography\n",
       "France      62120.946166\n",
       "Germany    119730.116134\n",
       "Spain       61818.147763\n",
       "Name: Balance, dtype: float64"
      ]
     },
     "execution_count": 287,
     "metadata": {},
     "output_type": "execute_result"
    }
   ],
   "source": [
    "merged_df.groupby('Geography')['Balance'].mean()"
   ]
  },
  {
   "cell_type": "code",
   "execution_count": 285,
   "id": "0271bf9f-2d74-4282-97d9-4077a1851e2e",
   "metadata": {},
   "outputs": [],
   "source": [
    "merged_df['EstimatedSalary'] = (\n",
    "    merged_df['EstimatedSalary']\n",
    "    .astype(str)\n",
    "    .str.strip()\n",
    "    .str.replace('€', '', regex=False)\n",
    "    .astype(float)\n",
    ")"
   ]
  },
  {
   "cell_type": "code",
   "execution_count": 267,
   "id": "537c9489-584c-4d94-8cbf-c7a71f0ed30f",
   "metadata": {},
   "outputs": [
    {
     "data": {
      "text/plain": [
       "Gender\n",
       "Female    100081.022157\n",
       "Male       99462.977160\n",
       "Name: EstimatedSalary, dtype: float64"
      ]
     },
     "execution_count": 267,
     "metadata": {},
     "output_type": "execute_result"
    }
   ],
   "source": [
    "merged_df.groupby('Gender')['EstimatedSalary'].mean()"
   ]
  },
  {
   "cell_type": "code",
   "execution_count": 268,
   "id": "2dca5183-2588-463a-9942-1e23dd18167d",
   "metadata": {},
   "outputs": [
    {
     "data": {
      "text/plain": [
       "Geography\n",
       "France      99647.326481\n",
       "Germany    100674.939115\n",
       "Spain       98996.434231\n",
       "Name: EstimatedSalary, dtype: float64"
      ]
     },
     "execution_count": 268,
     "metadata": {},
     "output_type": "execute_result"
    }
   ],
   "source": [
    "merged_df.groupby('Geography')['EstimatedSalary'].mean()"
   ]
  },
  {
   "cell_type": "raw",
   "id": "0eff82b1-d41d-46fa-a90d-1a820aac5e5d",
   "metadata": {},
   "source": [
    "Most customers are from France, followed by Germany and Spain and are mostly male.\n",
    "Female customers have a higher credit score, estimated salary and balance.\n",
    "Customers from Germany have a higher balance than the others."
   ]
  },
  {
   "cell_type": "code",
   "execution_count": 269,
   "id": "1d6b263f-cb38-48eb-a4d0-d046af789058",
   "metadata": {},
   "outputs": [],
   "source": [
    "#CUSTOMER ENGAGEMENT"
   ]
  },
  {
   "cell_type": "code",
   "execution_count": 270,
   "id": "af4b3724-f09d-4311-8ee5-e9c896ede220",
   "metadata": {},
   "outputs": [
    {
     "data": {
      "text/plain": [
       "<Axes: xlabel='Tenure_x'>"
      ]
     },
     "execution_count": 270,
     "metadata": {},
     "output_type": "execute_result"
    },
    {
     "data": {
      "image/png": "[encoded data removed]",
      "text/plain": [
       "<Figure size 640x480 with 1 Axes>"
      ]
     },
     "metadata": {},
     "output_type": "display_data"
    }
   ],
   "source": [
    "# Products owned by tenure\n",
    "merged_df.groupby('Tenure_x')['NumOfProducts'].mean().plot()"
   ]
  },
  {
   "cell_type": "code",
   "execution_count": 271,
   "id": "88caadbe-48fc-433a-9484-7489401a0bce",
   "metadata": {},
   "outputs": [
    {
     "data": {
      "image/png": "[encoded data removed]",
      "text/plain": [
       "<Figure size 800x600 with 1 Axes>"
      ]
     },
     "metadata": {},
     "output_type": "display_data"
    }
   ],
   "source": [
    "plt.figure(figsize=(8, 6))\n",
    "sns.countplot(data=merged_df, x='Tenure_x', hue='IsActiveMember')\n",
    "plt.title('Customer Distribution by Tenure and Active_members')\n",
    "plt.xlabel('Tenure')\n",
    "plt.ylabel('Number of Customers')\n",
    "plt.legend(title='IsActiveMember')\n",
    "plt.tight_layout()\n",
    "plt.show()"
   ]
  },
  {
   "cell_type": "code",
   "execution_count": 273,
   "id": "cdcc7146-4f60-49cd-87bb-67e0a3f115a2",
   "metadata": {},
   "outputs": [
    {
     "name": "stderr",
     "output_type": "stream",
     "text": [
      "C:\\Users\\UNIK\\AppData\\Local\\Temp\\ipykernel_16228\\154938852.py:3: FutureWarning: The default of observed=False is deprecated and will be changed to True in a future version of pandas. Pass observed=False to retain current behavior or observed=True to adopt the future default and silence this warning.\n",
      "  merged_df.groupby('AgeGroup')['CreditScore'].mean()\n"
     ]
    },
    {
     "data": {
      "text/plain": [
       "AgeGroup\n",
       "(18, 30]     651.016932\n",
       "(30, 40]     651.373765\n",
       "(40, 50]     648.813793\n",
       "(50, 60]     646.761606\n",
       "(60, 100]    654.549569\n",
       "Name: CreditScore, dtype: float64"
      ]
     },
     "execution_count": 273,
     "metadata": {},
     "output_type": "execute_result"
    }
   ],
   "source": [
    "# Credit score by age group\n",
    "merged_df['AgeGroup'] = pd.cut(merged_df['Age'], bins=[18, 30, 40, 50, 60, 100])\n",
    "merged_df.groupby('AgeGroup')['CreditScore'].mean()\n",
    "\n",
    "\n"
   ]
  },
  {
   "cell_type": "code",
   "execution_count": 272,
   "id": "8defe159-4f58-45de-840b-744338b8f94d",
   "metadata": {},
   "outputs": [
    {
     "data": {
      "text/html": [
       "<div>\n",
       "<style scoped>\n",
       "    .dataframe tbody tr th:only-of-type {\n",
       "        vertical-align: middle;\n",
       "    }\n",
       "\n",
       "    .dataframe tbody tr th {\n",
       "        vertical-align: top;\n",
       "    }\n",
       "\n",
       "    .dataframe thead th {\n",
       "        text-align: right;\n",
       "    }\n",
       "</style>\n",
       "<table border=\"1\" class=\"dataframe\">\n",
       "  <thead>\n",
       "    <tr style=\"text-align: right;\">\n",
       "      <th>HasCrCard</th>\n",
       "      <th>No</th>\n",
       "      <th>Yes</th>\n",
       "    </tr>\n",
       "    <tr>\n",
       "      <th>Tenure_x</th>\n",
       "      <th></th>\n",
       "      <th></th>\n",
       "    </tr>\n",
       "  </thead>\n",
       "  <tbody>\n",
       "    <tr>\n",
       "      <th>0</th>\n",
       "      <td>194</td>\n",
       "      <td>219</td>\n",
       "    </tr>\n",
       "    <tr>\n",
       "      <th>1</th>\n",
       "      <td>466</td>\n",
       "      <td>569</td>\n",
       "    </tr>\n",
       "    <tr>\n",
       "      <th>2</th>\n",
       "      <td>488</td>\n",
       "      <td>561</td>\n",
       "    </tr>\n",
       "    <tr>\n",
       "      <th>3</th>\n",
       "      <td>485</td>\n",
       "      <td>524</td>\n",
       "    </tr>\n",
       "    <tr>\n",
       "      <th>4</th>\n",
       "      <td>492</td>\n",
       "      <td>500</td>\n",
       "    </tr>\n",
       "    <tr>\n",
       "      <th>5</th>\n",
       "      <td>506</td>\n",
       "      <td>506</td>\n",
       "    </tr>\n",
       "    <tr>\n",
       "      <th>6</th>\n",
       "      <td>468</td>\n",
       "      <td>499</td>\n",
       "    </tr>\n",
       "    <tr>\n",
       "      <th>7</th>\n",
       "      <td>493</td>\n",
       "      <td>535</td>\n",
       "    </tr>\n",
       "    <tr>\n",
       "      <th>8</th>\n",
       "      <td>506</td>\n",
       "      <td>519</td>\n",
       "    </tr>\n",
       "    <tr>\n",
       "      <th>9</th>\n",
       "      <td>513</td>\n",
       "      <td>471</td>\n",
       "    </tr>\n",
       "    <tr>\n",
       "      <th>10</th>\n",
       "      <td>241</td>\n",
       "      <td>249</td>\n",
       "    </tr>\n",
       "  </tbody>\n",
       "</table>\n",
       "</div>"
      ],
      "text/plain": [
       "HasCrCard   No  Yes\n",
       "Tenure_x           \n",
       "0          194  219\n",
       "1          466  569\n",
       "2          488  561\n",
       "3          485  524\n",
       "4          492  500\n",
       "5          506  506\n",
       "6          468  499\n",
       "7          493  535\n",
       "8          506  519\n",
       "9          513  471\n",
       "10         241  249"
      ]
     },
     "execution_count": 272,
     "metadata": {},
     "output_type": "execute_result"
    }
   ],
   "source": [
    "# Cross analysis\n",
    "pd.crosstab(merged_df['Tenure_x'], merged_df['HasCrCard'])"
   ]
  },
  {
   "cell_type": "code",
   "execution_count": 274,
   "id": "19c5e4f2-2ef6-4425-8dad-5a7329603777",
   "metadata": {},
   "outputs": [
    {
     "data": {
      "text/plain": [
       "<Axes: xlabel='Geography'>"
      ]
     },
     "execution_count": 274,
     "metadata": {},
     "output_type": "execute_result"
    },
    {
     "data": {
      "image/png": "[encoded data removed]",
      "text/plain": [
       "<Figure size 640x480 with 1 Axes>"
      ]
     },
     "metadata": {},
     "output_type": "display_data"
    }
   ],
   "source": [
    "# Salary vs. geography\n",
    "merged_df.groupby('Geography')['EstimatedSalary'].mean().plot(kind='bar')"
   ]
  },
  {
   "cell_type": "code",
   "execution_count": 275,
   "id": "aeb4e20d-d7da-407d-b18a-7dfd3c07d8ea",
   "metadata": {},
   "outputs": [
    {
     "data": {
      "image/png": "[encoded data removed]",
      "text/plain": [
       "<Figure size 800x600 with 1 Axes>"
      ]
     },
     "metadata": {},
     "output_type": "display_data"
    }
   ],
   "source": [
    "salary_by_geo = merged_df.groupby('Geography')['EstimatedSalary'].mean()\n",
    "\n",
    "plt.figure(figsize=(8, 6))\n",
    "salary_by_geo.plot(kind='pie', autopct='%1.1f%%', startangle=90)\n",
    "plt.title('Average Estimated Salary by Geography')\n",
    "plt.tight_layout()\n",
    "plt.show()\n"
   ]
  },
  {
   "cell_type": "code",
   "execution_count": 281,
   "id": "e8120277-37fe-43fc-b651-acadd0a7206e",
   "metadata": {},
   "outputs": [
    {
     "data": {
      "text/plain": [
       "<Axes: title={'center': 'Average Estimated Salary by Gender'}, ylabel='EstimatedSalary'>"
      ]
     },
     "execution_count": 281,
     "metadata": {},
     "output_type": "execute_result"
    },
    {
     "data": {
      "image/png": "[encoded data removed]",
      "text/plain": [
       "<Figure size 640x480 with 1 Axes>"
      ]
     },
     "metadata": {},
     "output_type": "display_data"
    }
   ],
   "source": [
    "merged_df.groupby('Gender')['EstimatedSalary'].mean().plot(\n",
    "    kind='pie',\n",
    "    autopct='%1.1f%%',\n",
    "    title='Average Estimated Salary by Gender'\n",
    ")\n"
   ]
  },
  {
   "cell_type": "code",
   "execution_count": 280,
   "id": "7f00eed6-39ff-4044-8591-b2d8b92ffff6",
   "metadata": {},
   "outputs": [
    {
     "name": "stderr",
     "output_type": "stream",
     "text": [
      "C:\\Users\\UNIK\\AppData\\Local\\Temp\\ipykernel_16228\\869841921.py:1: FutureWarning: The default of observed=False is deprecated and will be changed to True in a future version of pandas. Pass observed=False to retain current behavior or observed=True to adopt the future default and silence this warning.\n",
      "  merged_df.groupby('AgeGroup')['EstimatedSalary'].mean().plot(kind='bar')\n"
     ]
    },
    {
     "data": {
      "text/plain": [
       "<Axes: xlabel='AgeGroup'>"
      ]
     },
     "execution_count": 280,
     "metadata": {},
     "output_type": "execute_result"
    },
    {
     "data": {
      "image/png": "[encoded data removed]",
      "text/plain": [
       "<Figure size 640x480 with 1 Axes>"
      ]
     },
     "metadata": {},
     "output_type": "display_data"
    }
   ],
   "source": [
    "merged_df.groupby('AgeGroup')['EstimatedSalary'].mean().plot(kind='bar')"
   ]
  },
  {
   "cell_type": "code",
   "execution_count": 282,
   "id": "244600a9-4ff2-4e85-a7fb-172f76b0fcaf",
   "metadata": {},
   "outputs": [
    {
     "data": {
      "text/plain": [
       "<Axes: xlabel='Gender'>"
      ]
     },
     "execution_count": 282,
     "metadata": {},
     "output_type": "execute_result"
    },
    {
     "data": {
      "image/png": "[encoded data removed]",
      "text/plain": [
       "<Figure size 640x480 with 1 Axes>"
      ]
     },
     "metadata": {},
     "output_type": "display_data"
    }
   ],
   "source": [
    "merged_df.groupby('Gender')['Balance'].mean().plot(kind='bar')"
   ]
  },
  {
   "cell_type": "code",
   "execution_count": 283,
   "id": "0258f20f-9b5c-4e10-9470-53f0e3488834",
   "metadata": {},
   "outputs": [
    {
     "name": "stderr",
     "output_type": "stream",
     "text": [
      "C:\\Users\\UNIK\\AppData\\Local\\Temp\\ipykernel_16228\\2984998660.py:1: FutureWarning: The default of observed=False is deprecated and will be changed to True in a future version of pandas. Pass observed=False to retain current behavior or observed=True to adopt the future default and silence this warning.\n",
      "  merged_df.groupby('AgeGroup')['Balance'].mean().plot(kind='bar')\n"
     ]
    },
    {
     "data": {
      "text/plain": [
       "<Axes: xlabel='AgeGroup'>"
      ]
     },
     "execution_count": 283,
     "metadata": {},
     "output_type": "execute_result"
    },
    {
     "data": {
      "image/png": "[encoded data removed]",
      "text/plain": [
       "<Figure size 640x480 with 1 Axes>"
      ]
     },
     "metadata": {},
     "output_type": "display_data"
    }
   ],
   "source": [
    "merged_df.groupby('AgeGroup')['Balance'].mean().plot(kind='bar')"
   ]
  },
  {
   "cell_type": "raw",
   "id": "8600779d-6aef-4721-a862-b256cbf24a3e",
   "metadata": {},
   "source": [
    "Short-tenure customers might be more active and engaged.\n",
    "customers within ages 30-40 have a higher credit score \n",
    "The estimated alaries for the different geogrraphical areas are slightly similar.\n",
    "Customers between ages 50-60 have a higher balance."
   ]
  },
  {
   "cell_type": "code",
   "execution_count": 276,
   "id": "a4e223f7-14b8-4208-bbac-4f769bf64529",
   "metadata": {},
   "outputs": [],
   "source": [
    "#CHURN ANALYSIS"
   ]
  },
  {
   "cell_type": "code",
   "execution_count": 277,
   "id": "23fe164a-7aa6-4ea1-88c5-24baa203a7fe",
   "metadata": {},
   "outputs": [
    {
     "data": {
      "text/plain": [
       "<Axes: xlabel='Geography'>"
      ]
     },
     "execution_count": 277,
     "metadata": {},
     "output_type": "execute_result"
    },
    {
     "data": {
      "image/png": "[encoded data removed]",
      "text/plain": [
       "<Figure size 640x480 with 1 Axes>"
      ]
     },
     "metadata": {},
     "output_type": "display_data"
    }
   ],
   "source": [
    "merged_df.groupby('Geography')['Exited'].mean().plot(kind='bar')"
   ]
  },
  {
   "cell_type": "code",
   "execution_count": 278,
   "id": "36eb49f3-b834-44e0-a7cd-ee3e7638d56c",
   "metadata": {},
   "outputs": [
    {
     "data": {
      "text/plain": [
       "<Axes: xlabel='Gender'>"
      ]
     },
     "execution_count": 278,
     "metadata": {},
     "output_type": "execute_result"
    },
    {
     "data": {
      "image/png": "[encoded data removed]",
      "text/plain": [
       "<Figure size 640x480 with 1 Axes>"
      ]
     },
     "metadata": {},
     "output_type": "display_data"
    }
   ],
   "source": [
    "# Compare by Exit status\n",
    "merged_df.groupby('Gender')['Exited'].mean().plot(kind='bar')"
   ]
  },
  {
   "cell_type": "code",
   "execution_count": 279,
   "id": "97eda9ae-ad3f-4576-a38f-d07d52661b90",
   "metadata": {},
   "outputs": [
    {
     "name": "stderr",
     "output_type": "stream",
     "text": [
      "C:\\Users\\UNIK\\AppData\\Local\\Temp\\ipykernel_16228\\1124255266.py:2: FutureWarning: The default of observed=False is deprecated and will be changed to True in a future version of pandas. Pass observed=False to retain current behavior or observed=True to adopt the future default and silence this warning.\n",
      "  merged_df.groupby('AgeGroup')['Exited'].mean().plot(kind='bar')\n"
     ]
    },
    {
     "data": {
      "text/plain": [
       "<Axes: xlabel='AgeGroup'>"
      ]
     },
     "execution_count": 279,
     "metadata": {},
     "output_type": "execute_result"
    },
    {
     "data": {
      "image/png": "[encoded data removed]",
      "text/plain": [
       "<Figure size 640x480 with 1 Axes>"
      ]
     },
     "metadata": {},
     "output_type": "display_data"
    }
   ],
   "source": [
    "# Age vs. Exit\n",
    "merged_df.groupby('AgeGroup')['Exited'].mean().plot(kind='bar')"
   ]
  },
  {
   "cell_type": "code",
   "execution_count": null,
   "id": "96b5ac57-f9db-4a09-9d39-0c7238c7424b",
   "metadata": {},
   "outputs": [],
   "source": [
    "# Balance comparison\n",
    "sns.boxplot(x='Exited', y='Balance', data=merged_df)"
   ]
  },
  {
   "cell_type": "code",
   "execution_count": null,
   "id": "1ca22bf7-9792-46a4-b81f-1cb9b578ad02",
   "metadata": {},
   "outputs": [],
   "source": [
    "#tenure vs exited\n",
    "sns.boxplot(x='Exited', y='Tenure_x', data=merged_df)"
   ]
  },
  {
   "cell_type": "code",
   "execution_count": null,
   "id": "c49cd0f8-2268-41bc-ad9e-f2dfab3b3fca",
   "metadata": {},
   "outputs": [],
   "source": [
    "#numberof products vs exited\n",
    "merged_df.groupby('NumOfProducts')['Exited'].mean().plot(kind='bar')"
   ]
  },
  {
   "cell_type": "raw",
   "id": "2d8c2e22-a6b7-472c-87aa-f3d9a5a1c452",
   "metadata": {},
   "source": [
    "Exited customers often have lower credit scores or are inactive members.\n",
    "Many exited customers have held 3 or 4 products with the bank.\n",
    "Customers based in Grmany have the highest churn rate.\n",
    "Female customers exit more than the male customers."
   ]
  },
  {
   "cell_type": "code",
   "execution_count": null,
   "id": "5b4d77a0-1c42-436c-bb2a-668fa417eec9",
   "metadata": {},
   "outputs": [],
   "source": []
  },
  {
   "cell_type": "markdown",
   "id": "0510576d-efa6-4eba-a977-b4331b1ba772",
   "metadata": {},
   "source": [
    "### Recommendations\n",
    "\n",
    "1. **Gender-Based Financial Targeting**\n",
    "   - Market investment and premium financial products to higher-earning gender groups.\n",
    "   - Offer financial planning tools to lower-earning groups to boost long-term engagement.\n",
    "\n",
    "2. **Regional Optimization**\n",
    "   - Invest in regional marketing and customer engagement strategies in underperforming geographies.\n",
    "   - Provide localized offers or support to increase retention in high-churn regions.\n",
    "\n",
    "3. **Tenure and Engagement**\n",
    "   - Introduce loyalty programs to reward long-term customers.\n",
    "   - Promote bundled products (e.g., savings + credit card) to increase product ownership among long-tenured clients.\n",
    "\n",
    "4. **Customer Exit (Churn) Risk**\n",
    "   - Launch proactive retention campaigns with personalized messages or incentives."
   ]
  },
  {
   "cell_type": "code",
   "execution_count": null,
   "id": "9b5b43dc-9bbd-4e0d-9086-784e44bb125b",
   "metadata": {},
   "outputs": [],
   "source": []
  },
  {
   "cell_type": "code",
   "execution_count": null,
   "id": "7f29ff68-e7b6-42dc-ad14-8ac93d960a2d",
   "metadata": {},
   "outputs": [],
   "source": []
  },
  {
   "cell_type": "code",
   "execution_count": null,
   "id": "a2b1c6b2-3f01-463b-b378-f81c0d626d1f",
   "metadata": {},
   "outputs": [],
   "source": []
  },
  {
   "cell_type": "code",
   "execution_count": null,
   "id": "bc36e076-afc6-4e14-8500-c70b124a9593",
   "metadata": {},
   "outputs": [],
   "source": []
  }
 ],
 "metadata": {
  "kernelspec": {
   "display_name": "Python 3 (ipykernel)",
   "language": "python",
   "name": "python3"
  },
  "language_info": {
   "codemirror_mode": {
    "name": "ipython",
    "version": 3
   },
   "file_extension": ".py",
   "mimetype": "text/x-python",
   "name": "python",
   "nbconvert_exporter": "python",
   "pygments_lexer": "ipython3",
   "version": "3.12.7"
  }
 },
 "nbformat": 4,
 "nbformat_minor": 5
}
